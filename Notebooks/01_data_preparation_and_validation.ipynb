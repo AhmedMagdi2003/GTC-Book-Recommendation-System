{
 "cells": [
  {
   "cell_type": "code",
   "execution_count": 1,
   "id": "3001fdca",
   "metadata": {},
   "outputs": [],
   "source": [
    "import pandas as pd \n",
    "import numpy as np\n",
    "import warnings\n",
    "warnings.filterwarnings('ignore')"
   ]
  },
  {
   "cell_type": "code",
   "execution_count": 2,
   "id": "7dd78816",
   "metadata": {},
   "outputs": [],
   "source": [
    "# data inporting and merging\n",
    "books  = pd.read_csv('../data/BX-Books.csv', sep=\";\", on_bad_lines='skip', encoding='latin-1')\n",
    "ratings = pd.read_csv('../data/BX-Book-Ratings.csv', sep=\";\", on_bad_lines='skip', encoding='latin-1')\n",
    "users  = pd.read_csv(\"../data/BX-Users.csv\", sep=\";\", on_bad_lines='skip', encoding='latin-1')"
   ]
  },
  {
   "cell_type": "code",
   "execution_count": 3,
   "id": "ecad807b",
   "metadata": {},
   "outputs": [
    {
     "name": "stdout",
     "output_type": "stream",
     "text": [
      "books shape: (271360, 8)\n",
      "ratings shape: (1149780, 3)\n",
      "users shape: (278858, 3)\n"
     ]
    }
   ],
   "source": [
    "print(f\"books shape: {books.shape}\")\n",
    "print(f\"ratings shape: {ratings.shape}\")\n",
    "print(f\"users shape: {users.shape}\")"
   ]
  },
  {
   "cell_type": "code",
   "execution_count": 4,
   "id": "b05e3b82",
   "metadata": {},
   "outputs": [
    {
     "data": {
      "text/html": [
       "<div>\n",
       "<style scoped>\n",
       "    .dataframe tbody tr th:only-of-type {\n",
       "        vertical-align: middle;\n",
       "    }\n",
       "\n",
       "    .dataframe tbody tr th {\n",
       "        vertical-align: top;\n",
       "    }\n",
       "\n",
       "    .dataframe thead th {\n",
       "        text-align: right;\n",
       "    }\n",
       "</style>\n",
       "<table border=\"1\" class=\"dataframe\">\n",
       "  <thead>\n",
       "    <tr style=\"text-align: right;\">\n",
       "      <th></th>\n",
       "      <th>ISBN</th>\n",
       "      <th>Book-Title</th>\n",
       "      <th>Book-Author</th>\n",
       "      <th>Year-Of-Publication</th>\n",
       "      <th>Publisher</th>\n",
       "      <th>Image-URL-S</th>\n",
       "      <th>Image-URL-M</th>\n",
       "      <th>Image-URL-L</th>\n",
       "    </tr>\n",
       "  </thead>\n",
       "  <tbody>\n",
       "    <tr>\n",
       "      <th>0</th>\n",
       "      <td>0195153448</td>\n",
       "      <td>Classical Mythology</td>\n",
       "      <td>Mark P. O. Morford</td>\n",
       "      <td>2002</td>\n",
       "      <td>Oxford University Press</td>\n",
       "      <td>http://images.amazon.com/images/P/0195153448.0...</td>\n",
       "      <td>http://images.amazon.com/images/P/0195153448.0...</td>\n",
       "      <td>http://images.amazon.com/images/P/0195153448.0...</td>\n",
       "    </tr>\n",
       "    <tr>\n",
       "      <th>1</th>\n",
       "      <td>0002005018</td>\n",
       "      <td>Clara Callan</td>\n",
       "      <td>Richard Bruce Wright</td>\n",
       "      <td>2001</td>\n",
       "      <td>HarperFlamingo Canada</td>\n",
       "      <td>http://images.amazon.com/images/P/0002005018.0...</td>\n",
       "      <td>http://images.amazon.com/images/P/0002005018.0...</td>\n",
       "      <td>http://images.amazon.com/images/P/0002005018.0...</td>\n",
       "    </tr>\n",
       "    <tr>\n",
       "      <th>2</th>\n",
       "      <td>0060973129</td>\n",
       "      <td>Decision in Normandy</td>\n",
       "      <td>Carlo D'Este</td>\n",
       "      <td>1991</td>\n",
       "      <td>HarperPerennial</td>\n",
       "      <td>http://images.amazon.com/images/P/0060973129.0...</td>\n",
       "      <td>http://images.amazon.com/images/P/0060973129.0...</td>\n",
       "      <td>http://images.amazon.com/images/P/0060973129.0...</td>\n",
       "    </tr>\n",
       "    <tr>\n",
       "      <th>3</th>\n",
       "      <td>0374157065</td>\n",
       "      <td>Flu: The Story of the Great Influenza Pandemic...</td>\n",
       "      <td>Gina Bari Kolata</td>\n",
       "      <td>1999</td>\n",
       "      <td>Farrar Straus Giroux</td>\n",
       "      <td>http://images.amazon.com/images/P/0374157065.0...</td>\n",
       "      <td>http://images.amazon.com/images/P/0374157065.0...</td>\n",
       "      <td>http://images.amazon.com/images/P/0374157065.0...</td>\n",
       "    </tr>\n",
       "    <tr>\n",
       "      <th>4</th>\n",
       "      <td>0393045218</td>\n",
       "      <td>The Mummies of Urumchi</td>\n",
       "      <td>E. J. W. Barber</td>\n",
       "      <td>1999</td>\n",
       "      <td>W. W. Norton &amp;amp; Company</td>\n",
       "      <td>http://images.amazon.com/images/P/0393045218.0...</td>\n",
       "      <td>http://images.amazon.com/images/P/0393045218.0...</td>\n",
       "      <td>http://images.amazon.com/images/P/0393045218.0...</td>\n",
       "    </tr>\n",
       "  </tbody>\n",
       "</table>\n",
       "</div>"
      ],
      "text/plain": [
       "         ISBN                                         Book-Title  \\\n",
       "0  0195153448                                Classical Mythology   \n",
       "1  0002005018                                       Clara Callan   \n",
       "2  0060973129                               Decision in Normandy   \n",
       "3  0374157065  Flu: The Story of the Great Influenza Pandemic...   \n",
       "4  0393045218                             The Mummies of Urumchi   \n",
       "\n",
       "            Book-Author Year-Of-Publication                   Publisher  \\\n",
       "0    Mark P. O. Morford                2002     Oxford University Press   \n",
       "1  Richard Bruce Wright                2001       HarperFlamingo Canada   \n",
       "2          Carlo D'Este                1991             HarperPerennial   \n",
       "3      Gina Bari Kolata                1999        Farrar Straus Giroux   \n",
       "4       E. J. W. Barber                1999  W. W. Norton &amp; Company   \n",
       "\n",
       "                                         Image-URL-S  \\\n",
       "0  http://images.amazon.com/images/P/0195153448.0...   \n",
       "1  http://images.amazon.com/images/P/0002005018.0...   \n",
       "2  http://images.amazon.com/images/P/0060973129.0...   \n",
       "3  http://images.amazon.com/images/P/0374157065.0...   \n",
       "4  http://images.amazon.com/images/P/0393045218.0...   \n",
       "\n",
       "                                         Image-URL-M  \\\n",
       "0  http://images.amazon.com/images/P/0195153448.0...   \n",
       "1  http://images.amazon.com/images/P/0002005018.0...   \n",
       "2  http://images.amazon.com/images/P/0060973129.0...   \n",
       "3  http://images.amazon.com/images/P/0374157065.0...   \n",
       "4  http://images.amazon.com/images/P/0393045218.0...   \n",
       "\n",
       "                                         Image-URL-L  \n",
       "0  http://images.amazon.com/images/P/0195153448.0...  \n",
       "1  http://images.amazon.com/images/P/0002005018.0...  \n",
       "2  http://images.amazon.com/images/P/0060973129.0...  \n",
       "3  http://images.amazon.com/images/P/0374157065.0...  \n",
       "4  http://images.amazon.com/images/P/0393045218.0...  "
      ]
     },
     "execution_count": 4,
     "metadata": {},
     "output_type": "execute_result"
    }
   ],
   "source": [
    "books.head()"
   ]
  },
  {
   "cell_type": "code",
   "execution_count": 5,
   "id": "53f73ea4",
   "metadata": {},
   "outputs": [],
   "source": [
    "# drop unnecessary columns and rename columns\n",
    "books = books.drop(columns=['Image-URL-S','Image-URL-L'])\n",
    "books = books.rename(columns={'Book-Title': 'title', 'Book-Author': 'author','ISBN': 'isbn',\n",
    "                            'Year-Of-Publication': 'year', 'Publisher': 'publisher',\"Image-URL-M\":\"img_url\"})"
   ]
  },
  {
   "cell_type": "code",
   "execution_count": 6,
   "id": "80e0a2d6",
   "metadata": {},
   "outputs": [
    {
     "data": {
      "text/html": [
       "<div>\n",
       "<style scoped>\n",
       "    .dataframe tbody tr th:only-of-type {\n",
       "        vertical-align: middle;\n",
       "    }\n",
       "\n",
       "    .dataframe tbody tr th {\n",
       "        vertical-align: top;\n",
       "    }\n",
       "\n",
       "    .dataframe thead th {\n",
       "        text-align: right;\n",
       "    }\n",
       "</style>\n",
       "<table border=\"1\" class=\"dataframe\">\n",
       "  <thead>\n",
       "    <tr style=\"text-align: right;\">\n",
       "      <th></th>\n",
       "      <th>User-ID</th>\n",
       "      <th>ISBN</th>\n",
       "      <th>Book-Rating</th>\n",
       "    </tr>\n",
       "  </thead>\n",
       "  <tbody>\n",
       "    <tr>\n",
       "      <th>0</th>\n",
       "      <td>276725</td>\n",
       "      <td>034545104X</td>\n",
       "      <td>0</td>\n",
       "    </tr>\n",
       "    <tr>\n",
       "      <th>1</th>\n",
       "      <td>276726</td>\n",
       "      <td>0155061224</td>\n",
       "      <td>5</td>\n",
       "    </tr>\n",
       "    <tr>\n",
       "      <th>2</th>\n",
       "      <td>276727</td>\n",
       "      <td>0446520802</td>\n",
       "      <td>0</td>\n",
       "    </tr>\n",
       "    <tr>\n",
       "      <th>3</th>\n",
       "      <td>276729</td>\n",
       "      <td>052165615X</td>\n",
       "      <td>3</td>\n",
       "    </tr>\n",
       "    <tr>\n",
       "      <th>4</th>\n",
       "      <td>276729</td>\n",
       "      <td>0521795028</td>\n",
       "      <td>6</td>\n",
       "    </tr>\n",
       "  </tbody>\n",
       "</table>\n",
       "</div>"
      ],
      "text/plain": [
       "   User-ID        ISBN  Book-Rating\n",
       "0   276725  034545104X            0\n",
       "1   276726  0155061224            5\n",
       "2   276727  0446520802            0\n",
       "3   276729  052165615X            3\n",
       "4   276729  0521795028            6"
      ]
     },
     "execution_count": 6,
     "metadata": {},
     "output_type": "execute_result"
    }
   ],
   "source": [
    "ratings.head()"
   ]
  },
  {
   "cell_type": "code",
   "execution_count": 7,
   "id": "69258bd0",
   "metadata": {},
   "outputs": [],
   "source": [
    "# drop unnecessary columns and rename columns\n",
    "ratings = ratings.rename(columns={'User-ID': 'user_id', 'Book-Rating': 'book_rating', 'ISBN': 'isbn'})"
   ]
  },
  {
   "cell_type": "code",
   "execution_count": 8,
   "id": "b83a4c47",
   "metadata": {},
   "outputs": [
    {
     "data": {
      "text/html": [
       "<div>\n",
       "<style scoped>\n",
       "    .dataframe tbody tr th:only-of-type {\n",
       "        vertical-align: middle;\n",
       "    }\n",
       "\n",
       "    .dataframe tbody tr th {\n",
       "        vertical-align: top;\n",
       "    }\n",
       "\n",
       "    .dataframe thead th {\n",
       "        text-align: right;\n",
       "    }\n",
       "</style>\n",
       "<table border=\"1\" class=\"dataframe\">\n",
       "  <thead>\n",
       "    <tr style=\"text-align: right;\">\n",
       "      <th></th>\n",
       "      <th>User-ID</th>\n",
       "      <th>Location</th>\n",
       "      <th>Age</th>\n",
       "    </tr>\n",
       "  </thead>\n",
       "  <tbody>\n",
       "    <tr>\n",
       "      <th>0</th>\n",
       "      <td>1</td>\n",
       "      <td>nyc, new york, usa</td>\n",
       "      <td>NaN</td>\n",
       "    </tr>\n",
       "    <tr>\n",
       "      <th>1</th>\n",
       "      <td>2</td>\n",
       "      <td>stockton, california, usa</td>\n",
       "      <td>18.0</td>\n",
       "    </tr>\n",
       "    <tr>\n",
       "      <th>2</th>\n",
       "      <td>3</td>\n",
       "      <td>moscow, yukon territory, russia</td>\n",
       "      <td>NaN</td>\n",
       "    </tr>\n",
       "    <tr>\n",
       "      <th>3</th>\n",
       "      <td>4</td>\n",
       "      <td>porto, v.n.gaia, portugal</td>\n",
       "      <td>17.0</td>\n",
       "    </tr>\n",
       "    <tr>\n",
       "      <th>4</th>\n",
       "      <td>5</td>\n",
       "      <td>farnborough, hants, united kingdom</td>\n",
       "      <td>NaN</td>\n",
       "    </tr>\n",
       "  </tbody>\n",
       "</table>\n",
       "</div>"
      ],
      "text/plain": [
       "   User-ID                            Location   Age\n",
       "0        1                  nyc, new york, usa   NaN\n",
       "1        2           stockton, california, usa  18.0\n",
       "2        3     moscow, yukon territory, russia   NaN\n",
       "3        4           porto, v.n.gaia, portugal  17.0\n",
       "4        5  farnborough, hants, united kingdom   NaN"
      ]
     },
     "execution_count": 8,
     "metadata": {},
     "output_type": "execute_result"
    }
   ],
   "source": [
    "users.head()"
   ]
  },
  {
   "cell_type": "code",
   "execution_count": 9,
   "id": "dd1b6dd0",
   "metadata": {},
   "outputs": [],
   "source": [
    "users = users.rename(columns={'User-ID': 'user_id', 'Location': 'location', 'Age': 'user_age'})"
   ]
  },
  {
   "cell_type": "markdown",
   "id": "0187df30",
   "metadata": {},
   "source": [
    "# 📊 Data Validation in Book Recommendation System\n",
    "\n",
    "## Tables\n",
    "- **BX-Books**: book metadata (`ISBN`, `Title`, `Author`, …)  \n",
    "- **BX-Users**: user metadata (`User-ID`, `Location`, `Age`)  \n",
    "- **BX-Ratings**: ratings (`User-ID`, `ISBN`, `Book-Rating`)  \n",
    "\n",
    "## Relationships\n",
    "- `BX-Ratings` links **users** and **books**.  \n",
    "- One user → many books.  \n",
    "- One book → many users.  \n",
    "- Users and books are unique in their own tables.  \n",
    "\n",
    "## Validation Steps\n",
    "1. **ID consistency**: all `User-ID` and `ISBN` in ratings must exist in users/books.  \n",
    "2. **Duplicates**: remove duplicate `(User-ID, ISBN)` pairs.  \n",
    "3. **Ratings check**: decide how to handle `0` (implicit feedback).  \n",
    "4. **Activity filter**: drop users/books with very few ratings.  \n",
    "5. **Row counts**: verify rows before and after merges.  \n",
    "\n",
    "## Cases\n",
    "- ✅ Many users rate the same book → expected.  \n",
    "- ✅ Many books rated by one user → expected.  \n",
    "- ❌ Same user rating the same book multiple times.  \n",
    "- ❌ Ratings referencing missing users or books.  \n"
   ]
  },
  {
   "cell_type": "markdown",
   "id": "426bcc9f",
   "metadata": {},
   "source": [
    "## Consistancy Check"
   ]
  },
  {
   "cell_type": "code",
   "execution_count": 10,
   "id": "f79a114e",
   "metadata": {},
   "outputs": [
    {
     "data": {
      "text/plain": [
       "(1149780, 3)"
      ]
     },
     "execution_count": 10,
     "metadata": {},
     "output_type": "execute_result"
    }
   ],
   "source": [
    "# Keep only ratings where user exists in BX-Users\n",
    "ratings = ratings[ratings[\"user_id\"].isin(users[\"user_id\"])]\n",
    "ratings.shape\n",
    "# no ratings were removed "
   ]
  },
  {
   "cell_type": "code",
   "execution_count": 11,
   "id": "30a39e8a",
   "metadata": {},
   "outputs": [
    {
     "data": {
      "text/plain": [
       "(1031136, 3)"
      ]
     },
     "execution_count": 11,
     "metadata": {},
     "output_type": "execute_result"
    }
   ],
   "source": [
    "# Keep only ratings where book exists in BX-Books\n",
    "ratings = ratings[ratings[\"isbn\"].isin(books[\"isbn\"])]\n",
    "ratings.shape\n",
    "# there were 118,644 ratings removed "
   ]
  },
  {
   "cell_type": "markdown",
   "id": "eac01433",
   "metadata": {},
   "source": [
    "There were 118,644 rating removed due to missing book."
   ]
  },
  {
   "cell_type": "markdown",
   "id": "05cb19f2",
   "metadata": {},
   "source": [
    "## Remove Duplicated"
   ]
  },
  {
   "cell_type": "code",
   "execution_count": 12,
   "id": "9963e4a8",
   "metadata": {},
   "outputs": [
    {
     "data": {
      "text/plain": [
       "(1031136, 3)"
      ]
     },
     "execution_count": 12,
     "metadata": {},
     "output_type": "execute_result"
    }
   ],
   "source": [
    "ratings = ratings.drop_duplicates(subset=[\"user_id\", \"isbn\"])\n",
    "ratings.shape\n"
   ]
  },
  {
   "cell_type": "markdown",
   "id": "e0ecab6d",
   "metadata": {},
   "source": [
    "## Tabels Merging"
   ]
  },
  {
   "cell_type": "code",
   "execution_count": 13,
   "id": "009179ef",
   "metadata": {},
   "outputs": [
    {
     "name": "stdout",
     "output_type": "stream",
     "text": [
      "Final merged dataset size: (1031136, 10)\n",
      "\n",
      " \n",
      " Sample book ratings:\n",
      "              isbn  book_rating\n",
      "0      034545104X            0\n",
      "13561  034545104X            5\n",
      "23643  034545104X            0\n",
      "31455  034545104X            5\n",
      "35641  034545104X            9\n"
     ]
    }
   ],
   "source": [
    "# Merge safely with user and book metadata\n",
    "df = ratings.merge(users, on=\"user_id\", how=\"inner\").merge(books, on=\"isbn\", how=\"inner\")\n",
    "\n",
    "print(\"Final merged dataset size:\", df.shape)\n",
    "print(\"\\n \\n Sample book ratings:\\n\", df[df[\"isbn\"] == df[\"isbn\"].iloc[0]][[\"isbn\", \"book_rating\"]].head())\n"
   ]
  },
  {
   "cell_type": "code",
   "execution_count": 14,
   "id": "f263fac5",
   "metadata": {},
   "outputs": [
    {
     "data": {
      "text/html": [
       "<div>\n",
       "<style scoped>\n",
       "    .dataframe tbody tr th:only-of-type {\n",
       "        vertical-align: middle;\n",
       "    }\n",
       "\n",
       "    .dataframe tbody tr th {\n",
       "        vertical-align: top;\n",
       "    }\n",
       "\n",
       "    .dataframe thead th {\n",
       "        text-align: right;\n",
       "    }\n",
       "</style>\n",
       "<table border=\"1\" class=\"dataframe\">\n",
       "  <thead>\n",
       "    <tr style=\"text-align: right;\">\n",
       "      <th></th>\n",
       "      <th>user_id</th>\n",
       "      <th>isbn</th>\n",
       "      <th>book_rating</th>\n",
       "      <th>location</th>\n",
       "      <th>user_age</th>\n",
       "      <th>title</th>\n",
       "      <th>author</th>\n",
       "      <th>year</th>\n",
       "      <th>publisher</th>\n",
       "      <th>img_url</th>\n",
       "    </tr>\n",
       "  </thead>\n",
       "  <tbody>\n",
       "    <tr>\n",
       "      <th>0</th>\n",
       "      <td>276725</td>\n",
       "      <td>034545104X</td>\n",
       "      <td>0</td>\n",
       "      <td>tyler, texas, usa</td>\n",
       "      <td>NaN</td>\n",
       "      <td>Flesh Tones: A Novel</td>\n",
       "      <td>M. J. Rose</td>\n",
       "      <td>2002</td>\n",
       "      <td>Ballantine Books</td>\n",
       "      <td>http://images.amazon.com/images/P/034545104X.0...</td>\n",
       "    </tr>\n",
       "    <tr>\n",
       "      <th>1</th>\n",
       "      <td>276726</td>\n",
       "      <td>0155061224</td>\n",
       "      <td>5</td>\n",
       "      <td>seattle, washington, usa</td>\n",
       "      <td>NaN</td>\n",
       "      <td>Rites of Passage</td>\n",
       "      <td>Judith Rae</td>\n",
       "      <td>2001</td>\n",
       "      <td>Heinle</td>\n",
       "      <td>http://images.amazon.com/images/P/0155061224.0...</td>\n",
       "    </tr>\n",
       "    <tr>\n",
       "      <th>2</th>\n",
       "      <td>276727</td>\n",
       "      <td>0446520802</td>\n",
       "      <td>0</td>\n",
       "      <td>h, new south wales, australia</td>\n",
       "      <td>16.0</td>\n",
       "      <td>The Notebook</td>\n",
       "      <td>Nicholas Sparks</td>\n",
       "      <td>1996</td>\n",
       "      <td>Warner Books</td>\n",
       "      <td>http://images.amazon.com/images/P/0446520802.0...</td>\n",
       "    </tr>\n",
       "    <tr>\n",
       "      <th>3</th>\n",
       "      <td>276729</td>\n",
       "      <td>052165615X</td>\n",
       "      <td>3</td>\n",
       "      <td>rijeka, n/a, croatia</td>\n",
       "      <td>16.0</td>\n",
       "      <td>Help!: Level 1</td>\n",
       "      <td>Philip Prowse</td>\n",
       "      <td>1999</td>\n",
       "      <td>Cambridge University Press</td>\n",
       "      <td>http://images.amazon.com/images/P/052165615X.0...</td>\n",
       "    </tr>\n",
       "    <tr>\n",
       "      <th>4</th>\n",
       "      <td>276729</td>\n",
       "      <td>0521795028</td>\n",
       "      <td>6</td>\n",
       "      <td>rijeka, n/a, croatia</td>\n",
       "      <td>16.0</td>\n",
       "      <td>The Amsterdam Connection : Level 4 (Cambridge ...</td>\n",
       "      <td>Sue Leather</td>\n",
       "      <td>2001</td>\n",
       "      <td>Cambridge University Press</td>\n",
       "      <td>http://images.amazon.com/images/P/0521795028.0...</td>\n",
       "    </tr>\n",
       "  </tbody>\n",
       "</table>\n",
       "</div>"
      ],
      "text/plain": [
       "   user_id        isbn  book_rating                       location  user_age  \\\n",
       "0   276725  034545104X            0              tyler, texas, usa       NaN   \n",
       "1   276726  0155061224            5       seattle, washington, usa       NaN   \n",
       "2   276727  0446520802            0  h, new south wales, australia      16.0   \n",
       "3   276729  052165615X            3           rijeka, n/a, croatia      16.0   \n",
       "4   276729  0521795028            6           rijeka, n/a, croatia      16.0   \n",
       "\n",
       "                                               title           author  year  \\\n",
       "0                               Flesh Tones: A Novel       M. J. Rose  2002   \n",
       "1                                   Rites of Passage       Judith Rae  2001   \n",
       "2                                       The Notebook  Nicholas Sparks  1996   \n",
       "3                                     Help!: Level 1    Philip Prowse  1999   \n",
       "4  The Amsterdam Connection : Level 4 (Cambridge ...      Sue Leather  2001   \n",
       "\n",
       "                    publisher  \\\n",
       "0            Ballantine Books   \n",
       "1                      Heinle   \n",
       "2                Warner Books   \n",
       "3  Cambridge University Press   \n",
       "4  Cambridge University Press   \n",
       "\n",
       "                                             img_url  \n",
       "0  http://images.amazon.com/images/P/034545104X.0...  \n",
       "1  http://images.amazon.com/images/P/0155061224.0...  \n",
       "2  http://images.amazon.com/images/P/0446520802.0...  \n",
       "3  http://images.amazon.com/images/P/052165615X.0...  \n",
       "4  http://images.amazon.com/images/P/0521795028.0...  "
      ]
     },
     "execution_count": 14,
     "metadata": {},
     "output_type": "execute_result"
    }
   ],
   "source": [
    "df.head()"
   ]
  },
  {
   "cell_type": "markdown",
   "id": "f6806c54",
   "metadata": {},
   "source": [
    "## Reduce dataset size"
   ]
  },
  {
   "cell_type": "code",
   "execution_count": 15,
   "id": "3d9a9059",
   "metadata": {},
   "outputs": [
    {
     "name": "stdout",
     "output_type": "stream",
     "text": [
      "<class 'pandas.core.frame.DataFrame'>\n",
      "RangeIndex: 1031136 entries, 0 to 1031135\n",
      "Data columns (total 10 columns):\n",
      " #   Column       Non-Null Count    Dtype  \n",
      "---  ------       --------------    -----  \n",
      " 0   user_id      1031136 non-null  int64  \n",
      " 1   isbn         1031136 non-null  object \n",
      " 2   book_rating  1031136 non-null  int64  \n",
      " 3   location     1031136 non-null  object \n",
      " 4   user_age     753301 non-null   float64\n",
      " 5   title        1031136 non-null  object \n",
      " 6   author       1031134 non-null  object \n",
      " 7   year         1031136 non-null  object \n",
      " 8   publisher    1031134 non-null  object \n",
      " 9   img_url      1031136 non-null  object \n",
      "dtypes: float64(1), int64(2), object(7)\n",
      "memory usage: 78.7+ MB\n"
     ]
    }
   ],
   "source": [
    "df.info()"
   ]
  },
  {
   "cell_type": "code",
   "execution_count": 16,
   "id": "99d13e33",
   "metadata": {},
   "outputs": [
    {
     "name": "stdout",
     "output_type": "stream",
     "text": [
      "<class 'pandas.core.frame.DataFrame'>\n",
      "RangeIndex: 1031136 entries, 0 to 1031135\n",
      "Data columns (total 10 columns):\n",
      " #   Column       Non-Null Count    Dtype  \n",
      "---  ------       --------------    -----  \n",
      " 0   user_id      1031136 non-null  int32  \n",
      " 1   isbn         1031136 non-null  object \n",
      " 2   book_rating  1031136 non-null  int8   \n",
      " 3   location     1031136 non-null  object \n",
      " 4   user_age     753301 non-null   float32\n",
      " 5   title        1031136 non-null  object \n",
      " 6   author       1031134 non-null  object \n",
      " 7   year         1031136 non-null  object \n",
      " 8   publisher    1031134 non-null  object \n",
      " 9   img_url      1031136 non-null  object \n",
      "dtypes: float32(1), int32(1), int8(1), object(7)\n",
      "memory usage: 63.9+ MB\n"
     ]
    }
   ],
   "source": [
    "# Downcast int64 → int32 and float64 → float32\n",
    "df[\"user_id\"] = pd.to_numeric(df[\"user_id\"], downcast=\"integer\")\n",
    "df[\"book_rating\"] = pd.to_numeric(df[\"book_rating\"], downcast=\"integer\")\n",
    "df[\"user_age\"] = pd.to_numeric(df[\"user_age\"], downcast=\"float\")\n",
    "\n",
    "df.info()"
   ]
  },
  {
   "cell_type": "markdown",
   "id": "a70fe3ff",
   "metadata": {},
   "source": [
    "# Dataset Filtering"
   ]
  },
  {
   "cell_type": "markdown",
   "id": "324a0d29",
   "metadata": {},
   "source": [
    "# 📊 Data Filtering Criteria for Book Recommendation System\n",
    "\n",
    "## Goal\n",
    "The purpose of filtering is to reduce noise, handle invalid entries, and ensure that both users and books have enough interactions for meaningful recommendations. This improves data quality, model performance, and computational efficiency.\n",
    "\n",
    "## Filtering Criteria\n",
    "\n",
    "1. **Explicit Ratings Only**  \n",
    "   - Remove ratings equal to `0` (implicit feedback).  \n",
    "   - Keep only ratings greater than `0`.  \n",
    "2. **Age Validation**  \n",
    "   - Keep user ages within the range **10–100**.  \n",
    "   - Removes unrealistic or missing values.  \n",
    "3. **Year Validation**  \n",
    "   - Keep publication years between **1500 and the current year**.  \n",
    "   - Removes invalid or placeholder values.  \n",
    "4. **Minimum Ratings per User**  \n",
    "   - Keep only users with at least **2 ratings**.  \n",
    "   - Ensures each user profile is informative.  \n",
    "5. **Minimum Ratings per Book**  \n",
    "   - Keep only books with at least **3 ratings**.  \n",
    "   - Ensures books have enough feedback for collaborative filtering.  \n",
    "\n",
    "\n",
    "\n",
    "\n",
    "\n",
    "## Outcome\n",
    "- A cleaner, denser dataset.  \n",
    "- Balanced representation of users and books.  \n",
    "- Reduced sparsity and improved model training.  \n"
   ]
  },
  {
   "cell_type": "code",
   "execution_count": 17,
   "id": "92127089",
   "metadata": {},
   "outputs": [],
   "source": [
    "# -----------------------------\n",
    "# 1. Explicit ratings only\n",
    "# -----------------------------\n",
    "df = df[df[\"book_rating\"] > 0]"
   ]
  },
  {
   "cell_type": "code",
   "execution_count": 18,
   "id": "7e2653b9",
   "metadata": {},
   "outputs": [
    {
     "data": {
      "text/plain": [
       "count    269621.000000\n",
       "mean         36.835831\n",
       "std          13.753045\n",
       "min           0.000000\n",
       "25%          28.000000\n",
       "50%          35.000000\n",
       "75%          45.000000\n",
       "max         244.000000\n",
       "Name: user_age, dtype: float64"
      ]
     },
     "execution_count": 18,
     "metadata": {},
     "output_type": "execute_result"
    }
   ],
   "source": [
    "df['user_age'].describe()"
   ]
  },
  {
   "cell_type": "code",
   "execution_count": 19,
   "id": "c54339b0",
   "metadata": {},
   "outputs": [],
   "source": [
    "# -----------------------------\n",
    "# 2. Age validation\n",
    "# -----------------------------\n",
    "df = df[(df['user_age'] >= 10) & (df['user_age'] <= 100)]\n"
   ]
  },
  {
   "cell_type": "code",
   "execution_count": 20,
   "id": "772f3b1e",
   "metadata": {},
   "outputs": [
    {
     "data": {
      "text/plain": [
       "count    267239.000000\n",
       "mean       1965.349739\n",
       "std         244.586773\n",
       "min           0.000000\n",
       "25%        1992.000000\n",
       "50%        1998.000000\n",
       "75%        2001.000000\n",
       "max        2050.000000\n",
       "Name: year, dtype: float64"
      ]
     },
     "execution_count": 20,
     "metadata": {},
     "output_type": "execute_result"
    }
   ],
   "source": [
    "df[\"year\"] = pd.to_numeric(df[\"year\"], errors=\"coerce\")\n",
    "df['year'].describe()"
   ]
  },
  {
   "cell_type": "code",
   "execution_count": 21,
   "id": "93e69d0c",
   "metadata": {},
   "outputs": [],
   "source": [
    "# -----------------------------\n",
    "# 3. Year validation\n",
    "# -----------------------------\n",
    "df[\"year\"] = pd.to_numeric(df[\"year\"], errors=\"coerce\")\n",
    "df = df[((df[\"year\"] >= 1500) & (df[\"year\"] <= 2025))]\n"
   ]
  },
  {
   "cell_type": "markdown",
   "id": "62a46371",
   "metadata": {},
   "source": [
    "### Iterative Filtering\n",
    "\n",
    "When filtering our dataset, we face the classic **chicken-or-egg problem** 🐔🥚:  \n",
    "\n",
    "- If we filter users first, later removing books may drop their ratings.  \n",
    "- If we filter books first, later removing users may also drop ratings.  \n",
    "\n",
    "👉 To solve this, we use **iterative filtering**:  \n",
    "1. Filter users with fewer than 2 ratings.  \n",
    "2. Filter books with fewer than 3 ratings.  \n",
    "3. Repeat until no more users or books are removed.  \n",
    "\n",
    "This looping ensures that in the final dataset:  \n",
    "- Every user has enough ratings.  \n",
    "- Every book has enough ratings.  \n",
    "\n",
    "No matter who came first, chicken or egg, both survive in balance 🐓📚.\n"
   ]
  },
  {
   "cell_type": "code",
   "execution_count": 22,
   "id": "0477f337",
   "metadata": {},
   "outputs": [
    {
     "name": "stdout",
     "output_type": "stream",
     "text": [
      "Current shape: 185797, New shape: 39101\n",
      "Current shape: 26406, New shape: 20209\n",
      "Current shape: 17547, New shape: 15652\n",
      "Current shape: 14524, New shape: 13749\n",
      "Current shape: 13298, New shape: 12885\n",
      "Current shape: 12559, New shape: 12373\n",
      "Current shape: 12254, New shape: 12154\n",
      "Current shape: 12064, New shape: 12004\n",
      "Current shape: 11974, New shape: 11944\n",
      "Current shape: 11924, New shape: 11924\n"
     ]
    }
   ],
   "source": [
    "current_shape  = df.shape[0]\n",
    "new_shape = 0\n",
    "while current_shape != new_shape:\n",
    "    # -----------------------------\n",
    "    # 4. Minimum ratings per user\n",
    "    # -----------------------------\n",
    "    user_counts = df[\"user_id\"].value_counts()\n",
    "    df = df[df[\"user_id\"].isin(user_counts[user_counts > 10].index)]\n",
    "    current_shape = df.shape[0]\n",
    "    # -----------------------------\n",
    "    # 5. Minimum ratings per book\n",
    "    # -----------------------------\n",
    "    book_counts = df[\"isbn\"].value_counts()\n",
    "    df = df[df[\"isbn\"].isin(book_counts[book_counts > 10].index)]\n",
    "    new_shape = df.shape[0]\n",
    "    print(f\"Current shape: {current_shape}, New shape: {new_shape}\")"
   ]
  },
  {
   "cell_type": "markdown",
   "id": "0b41bd3b",
   "metadata": {},
   "source": [
    "### Adding number of ratings feature"
   ]
  },
  {
   "cell_type": "code",
   "execution_count": 23,
   "id": "431dcfae",
   "metadata": {},
   "outputs": [
    {
     "data": {
      "text/html": [
       "<div>\n",
       "<style scoped>\n",
       "    .dataframe tbody tr th:only-of-type {\n",
       "        vertical-align: middle;\n",
       "    }\n",
       "\n",
       "    .dataframe tbody tr th {\n",
       "        vertical-align: top;\n",
       "    }\n",
       "\n",
       "    .dataframe thead th {\n",
       "        text-align: right;\n",
       "    }\n",
       "</style>\n",
       "<table border=\"1\" class=\"dataframe\">\n",
       "  <thead>\n",
       "    <tr style=\"text-align: right;\">\n",
       "      <th></th>\n",
       "      <th>title</th>\n",
       "      <th>num_of_rating</th>\n",
       "    </tr>\n",
       "  </thead>\n",
       "  <tbody>\n",
       "    <tr>\n",
       "      <th>0</th>\n",
       "      <td>1984</td>\n",
       "      <td>29</td>\n",
       "    </tr>\n",
       "    <tr>\n",
       "      <th>1</th>\n",
       "      <td>1st to Die: A Novel</td>\n",
       "      <td>42</td>\n",
       "    </tr>\n",
       "    <tr>\n",
       "      <th>2</th>\n",
       "      <td>2010: Odyssey Two</td>\n",
       "      <td>11</td>\n",
       "    </tr>\n",
       "    <tr>\n",
       "      <th>3</th>\n",
       "      <td>2nd Chance</td>\n",
       "      <td>37</td>\n",
       "    </tr>\n",
       "    <tr>\n",
       "      <th>4</th>\n",
       "      <td>4 Blondes</td>\n",
       "      <td>11</td>\n",
       "    </tr>\n",
       "    <tr>\n",
       "      <th>...</th>\n",
       "      <td>...</td>\n",
       "      <td>...</td>\n",
       "    </tr>\n",
       "    <tr>\n",
       "      <th>580</th>\n",
       "      <td>Wizard and Glass (The Dark Tower, Book 4)</td>\n",
       "      <td>15</td>\n",
       "    </tr>\n",
       "    <tr>\n",
       "      <th>581</th>\n",
       "      <td>Word Freak: Heartbreak, Triumph, Genius, and O...</td>\n",
       "      <td>18</td>\n",
       "    </tr>\n",
       "    <tr>\n",
       "      <th>582</th>\n",
       "      <td>Year of Wonders</td>\n",
       "      <td>16</td>\n",
       "    </tr>\n",
       "    <tr>\n",
       "      <th>583</th>\n",
       "      <td>Zen and the Art of Motorcycle Maintenance: An ...</td>\n",
       "      <td>13</td>\n",
       "    </tr>\n",
       "    <tr>\n",
       "      <th>584</th>\n",
       "      <td>\\O\\\" Is for Outlaw\"</td>\n",
       "      <td>14</td>\n",
       "    </tr>\n",
       "  </tbody>\n",
       "</table>\n",
       "<p>585 rows × 2 columns</p>\n",
       "</div>"
      ],
      "text/plain": [
       "                                                 title  num_of_rating\n",
       "0                                                 1984             29\n",
       "1                                  1st to Die: A Novel             42\n",
       "2                                    2010: Odyssey Two             11\n",
       "3                                           2nd Chance             37\n",
       "4                                            4 Blondes             11\n",
       "..                                                 ...            ...\n",
       "580          Wizard and Glass (The Dark Tower, Book 4)             15\n",
       "581  Word Freak: Heartbreak, Triumph, Genius, and O...             18\n",
       "582                                    Year of Wonders             16\n",
       "583  Zen and the Art of Motorcycle Maintenance: An ...             13\n",
       "584                                \\O\\\" Is for Outlaw\"             14\n",
       "\n",
       "[585 rows x 2 columns]"
      ]
     },
     "execution_count": 23,
     "metadata": {},
     "output_type": "execute_result"
    }
   ],
   "source": [
    "num_rating = df.groupby('title')['book_rating'].count().reset_index()\n",
    "num_rating.rename(columns= {\n",
    "    \"book_rating\":\"num_of_rating\"},inplace=True)\n",
    "num_rating"
   ]
  },
  {
   "cell_type": "code",
   "execution_count": 24,
   "id": "63102273",
   "metadata": {},
   "outputs": [],
   "source": [
    "df = df.merge(num_rating , on = \"title\",how='inner') # many to many relationship"
   ]
  },
  {
   "cell_type": "markdown",
   "id": "f28125d1",
   "metadata": {},
   "source": [
    "## Data Saving"
   ]
  },
  {
   "cell_type": "code",
   "execution_count": 25,
   "id": "7c76789d",
   "metadata": {},
   "outputs": [
    {
     "name": "stdout",
     "output_type": "stream",
     "text": [
      "<class 'pandas.core.frame.DataFrame'>\n",
      "RangeIndex: 11924 entries, 0 to 11923\n",
      "Data columns (total 11 columns):\n",
      " #   Column         Non-Null Count  Dtype  \n",
      "---  ------         --------------  -----  \n",
      " 0   user_id        11924 non-null  int32  \n",
      " 1   isbn           11924 non-null  object \n",
      " 2   book_rating    11924 non-null  int8   \n",
      " 3   location       11924 non-null  object \n",
      " 4   user_age       11924 non-null  float32\n",
      " 5   title          11924 non-null  object \n",
      " 6   author         11924 non-null  object \n",
      " 7   year           11924 non-null  float64\n",
      " 8   publisher      11924 non-null  object \n",
      " 9   img_url        11924 non-null  object \n",
      " 10  num_of_rating  11924 non-null  int64  \n",
      "dtypes: float32(1), float64(1), int32(1), int64(1), int8(1), object(6)\n",
      "memory usage: 850.2+ KB\n"
     ]
    }
   ],
   "source": [
    "df.info()"
   ]
  },
  {
   "cell_type": "code",
   "execution_count": 26,
   "id": "777d2965",
   "metadata": {},
   "outputs": [
    {
     "data": {
      "text/plain": [
       "(11895, 11)"
      ]
     },
     "execution_count": 26,
     "metadata": {},
     "output_type": "execute_result"
    }
   ],
   "source": [
    "df.drop_duplicates(['user_id','title'],inplace=True)\n",
    "df.shape"
   ]
  },
  {
   "cell_type": "code",
   "execution_count": 27,
   "id": "7df36520",
   "metadata": {},
   "outputs": [],
   "source": [
    "df.to_csv(\"../data/cleaned_book_ratings.csv\", index=False)"
   ]
  }
 ],
 "metadata": {
  "kernelspec": {
   "display_name": "Python 3",
   "language": "python",
   "name": "python3"
  },
  "language_info": {
   "codemirror_mode": {
    "name": "ipython",
    "version": 3
   },
   "file_extension": ".py",
   "mimetype": "text/x-python",
   "name": "python",
   "nbconvert_exporter": "python",
   "pygments_lexer": "ipython3",
   "version": "3.11.5"
  }
 },
 "nbformat": 4,
 "nbformat_minor": 5
}
