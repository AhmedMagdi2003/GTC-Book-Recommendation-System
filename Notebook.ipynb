{
 "cells": [
  {
   "cell_type": "code",
   "execution_count": 150,
   "id": "3001fdca",
   "metadata": {},
   "outputs": [],
   "source": [
    "import pandas as pd \n",
    "import numpy as np\n",
    "import matplotlib.pyplot as plt \n",
    "import seaborn as sns \n",
    "import warnings\n",
    "warnings.filterwarnings('ignore')"
   ]
  },
  {
   "cell_type": "code",
   "execution_count": 151,
   "id": "7dd78816",
   "metadata": {},
   "outputs": [],
   "source": [
    "# data inporting and merging\n",
    "books  = pd.read_csv('BX-Books.csv', sep=\";\", on_bad_lines='skip', encoding='latin-1')\n",
    "ratings = pd.read_csv('BX-Book-Ratings.csv', sep=\";\", on_bad_lines='skip', encoding='latin-1')\n",
    "users  = pd.read_csv(\"BX-Users.csv\", sep=\";\", on_bad_lines='skip', encoding='latin-1')"
   ]
  },
  {
   "cell_type": "code",
   "execution_count": 152,
   "id": "ecad807b",
   "metadata": {},
   "outputs": [
    {
     "name": "stdout",
     "output_type": "stream",
     "text": [
      "books shape: (271360, 8)\n",
      "ratings shape: (1149780, 3)\n",
      "users shape: (278858, 3)\n"
     ]
    }
   ],
   "source": [
    "print(f\"books shape: {books.shape}\")\n",
    "print(f\"ratings shape: {ratings.shape}\")\n",
    "print(f\"users shape: {users.shape}\")"
   ]
  },
  {
   "cell_type": "code",
   "execution_count": 153,
   "id": "b05e3b82",
   "metadata": {},
   "outputs": [
    {
     "data": {
      "application/vnd.microsoft.datawrangler.viewer.v0+json": {
       "columns": [
        {
         "name": "index",
         "rawType": "int64",
         "type": "integer"
        },
        {
         "name": "ISBN",
         "rawType": "object",
         "type": "string"
        },
        {
         "name": "Book-Title",
         "rawType": "object",
         "type": "string"
        },
        {
         "name": "Book-Author",
         "rawType": "object",
         "type": "string"
        },
        {
         "name": "Year-Of-Publication",
         "rawType": "object",
         "type": "unknown"
        },
        {
         "name": "Publisher",
         "rawType": "object",
         "type": "string"
        },
        {
         "name": "Image-URL-S",
         "rawType": "object",
         "type": "string"
        },
        {
         "name": "Image-URL-M",
         "rawType": "object",
         "type": "string"
        },
        {
         "name": "Image-URL-L",
         "rawType": "object",
         "type": "string"
        }
       ],
       "ref": "9d798a64-13ef-4eb7-9e96-74a7c3c8a8a5",
       "rows": [
        [
         "0",
         "0195153448",
         "Classical Mythology",
         "Mark P. O. Morford",
         "2002",
         "Oxford University Press",
         "http://images.amazon.com/images/P/0195153448.01.THUMBZZZ.jpg",
         "http://images.amazon.com/images/P/0195153448.01.MZZZZZZZ.jpg",
         "http://images.amazon.com/images/P/0195153448.01.LZZZZZZZ.jpg"
        ],
        [
         "1",
         "0002005018",
         "Clara Callan",
         "Richard Bruce Wright",
         "2001",
         "HarperFlamingo Canada",
         "http://images.amazon.com/images/P/0002005018.01.THUMBZZZ.jpg",
         "http://images.amazon.com/images/P/0002005018.01.MZZZZZZZ.jpg",
         "http://images.amazon.com/images/P/0002005018.01.LZZZZZZZ.jpg"
        ],
        [
         "2",
         "0060973129",
         "Decision in Normandy",
         "Carlo D'Este",
         "1991",
         "HarperPerennial",
         "http://images.amazon.com/images/P/0060973129.01.THUMBZZZ.jpg",
         "http://images.amazon.com/images/P/0060973129.01.MZZZZZZZ.jpg",
         "http://images.amazon.com/images/P/0060973129.01.LZZZZZZZ.jpg"
        ],
        [
         "3",
         "0374157065",
         "Flu: The Story of the Great Influenza Pandemic of 1918 and the Search for the Virus That Caused It",
         "Gina Bari Kolata",
         "1999",
         "Farrar Straus Giroux",
         "http://images.amazon.com/images/P/0374157065.01.THUMBZZZ.jpg",
         "http://images.amazon.com/images/P/0374157065.01.MZZZZZZZ.jpg",
         "http://images.amazon.com/images/P/0374157065.01.LZZZZZZZ.jpg"
        ],
        [
         "4",
         "0393045218",
         "The Mummies of Urumchi",
         "E. J. W. Barber",
         "1999",
         "W. W. Norton &amp; Company",
         "http://images.amazon.com/images/P/0393045218.01.THUMBZZZ.jpg",
         "http://images.amazon.com/images/P/0393045218.01.MZZZZZZZ.jpg",
         "http://images.amazon.com/images/P/0393045218.01.LZZZZZZZ.jpg"
        ]
       ],
       "shape": {
        "columns": 8,
        "rows": 5
       }
      },
      "text/html": [
       "<div>\n",
       "<style scoped>\n",
       "    .dataframe tbody tr th:only-of-type {\n",
       "        vertical-align: middle;\n",
       "    }\n",
       "\n",
       "    .dataframe tbody tr th {\n",
       "        vertical-align: top;\n",
       "    }\n",
       "\n",
       "    .dataframe thead th {\n",
       "        text-align: right;\n",
       "    }\n",
       "</style>\n",
       "<table border=\"1\" class=\"dataframe\">\n",
       "  <thead>\n",
       "    <tr style=\"text-align: right;\">\n",
       "      <th></th>\n",
       "      <th>ISBN</th>\n",
       "      <th>Book-Title</th>\n",
       "      <th>Book-Author</th>\n",
       "      <th>Year-Of-Publication</th>\n",
       "      <th>Publisher</th>\n",
       "      <th>Image-URL-S</th>\n",
       "      <th>Image-URL-M</th>\n",
       "      <th>Image-URL-L</th>\n",
       "    </tr>\n",
       "  </thead>\n",
       "  <tbody>\n",
       "    <tr>\n",
       "      <th>0</th>\n",
       "      <td>0195153448</td>\n",
       "      <td>Classical Mythology</td>\n",
       "      <td>Mark P. O. Morford</td>\n",
       "      <td>2002</td>\n",
       "      <td>Oxford University Press</td>\n",
       "      <td>http://images.amazon.com/images/P/0195153448.0...</td>\n",
       "      <td>http://images.amazon.com/images/P/0195153448.0...</td>\n",
       "      <td>http://images.amazon.com/images/P/0195153448.0...</td>\n",
       "    </tr>\n",
       "    <tr>\n",
       "      <th>1</th>\n",
       "      <td>0002005018</td>\n",
       "      <td>Clara Callan</td>\n",
       "      <td>Richard Bruce Wright</td>\n",
       "      <td>2001</td>\n",
       "      <td>HarperFlamingo Canada</td>\n",
       "      <td>http://images.amazon.com/images/P/0002005018.0...</td>\n",
       "      <td>http://images.amazon.com/images/P/0002005018.0...</td>\n",
       "      <td>http://images.amazon.com/images/P/0002005018.0...</td>\n",
       "    </tr>\n",
       "    <tr>\n",
       "      <th>2</th>\n",
       "      <td>0060973129</td>\n",
       "      <td>Decision in Normandy</td>\n",
       "      <td>Carlo D'Este</td>\n",
       "      <td>1991</td>\n",
       "      <td>HarperPerennial</td>\n",
       "      <td>http://images.amazon.com/images/P/0060973129.0...</td>\n",
       "      <td>http://images.amazon.com/images/P/0060973129.0...</td>\n",
       "      <td>http://images.amazon.com/images/P/0060973129.0...</td>\n",
       "    </tr>\n",
       "    <tr>\n",
       "      <th>3</th>\n",
       "      <td>0374157065</td>\n",
       "      <td>Flu: The Story of the Great Influenza Pandemic...</td>\n",
       "      <td>Gina Bari Kolata</td>\n",
       "      <td>1999</td>\n",
       "      <td>Farrar Straus Giroux</td>\n",
       "      <td>http://images.amazon.com/images/P/0374157065.0...</td>\n",
       "      <td>http://images.amazon.com/images/P/0374157065.0...</td>\n",
       "      <td>http://images.amazon.com/images/P/0374157065.0...</td>\n",
       "    </tr>\n",
       "    <tr>\n",
       "      <th>4</th>\n",
       "      <td>0393045218</td>\n",
       "      <td>The Mummies of Urumchi</td>\n",
       "      <td>E. J. W. Barber</td>\n",
       "      <td>1999</td>\n",
       "      <td>W. W. Norton &amp;amp; Company</td>\n",
       "      <td>http://images.amazon.com/images/P/0393045218.0...</td>\n",
       "      <td>http://images.amazon.com/images/P/0393045218.0...</td>\n",
       "      <td>http://images.amazon.com/images/P/0393045218.0...</td>\n",
       "    </tr>\n",
       "  </tbody>\n",
       "</table>\n",
       "</div>"
      ],
      "text/plain": [
       "         ISBN                                         Book-Title  \\\n",
       "0  0195153448                                Classical Mythology   \n",
       "1  0002005018                                       Clara Callan   \n",
       "2  0060973129                               Decision in Normandy   \n",
       "3  0374157065  Flu: The Story of the Great Influenza Pandemic...   \n",
       "4  0393045218                             The Mummies of Urumchi   \n",
       "\n",
       "            Book-Author Year-Of-Publication                   Publisher  \\\n",
       "0    Mark P. O. Morford                2002     Oxford University Press   \n",
       "1  Richard Bruce Wright                2001       HarperFlamingo Canada   \n",
       "2          Carlo D'Este                1991             HarperPerennial   \n",
       "3      Gina Bari Kolata                1999        Farrar Straus Giroux   \n",
       "4       E. J. W. Barber                1999  W. W. Norton &amp; Company   \n",
       "\n",
       "                                         Image-URL-S  \\\n",
       "0  http://images.amazon.com/images/P/0195153448.0...   \n",
       "1  http://images.amazon.com/images/P/0002005018.0...   \n",
       "2  http://images.amazon.com/images/P/0060973129.0...   \n",
       "3  http://images.amazon.com/images/P/0374157065.0...   \n",
       "4  http://images.amazon.com/images/P/0393045218.0...   \n",
       "\n",
       "                                         Image-URL-M  \\\n",
       "0  http://images.amazon.com/images/P/0195153448.0...   \n",
       "1  http://images.amazon.com/images/P/0002005018.0...   \n",
       "2  http://images.amazon.com/images/P/0060973129.0...   \n",
       "3  http://images.amazon.com/images/P/0374157065.0...   \n",
       "4  http://images.amazon.com/images/P/0393045218.0...   \n",
       "\n",
       "                                         Image-URL-L  \n",
       "0  http://images.amazon.com/images/P/0195153448.0...  \n",
       "1  http://images.amazon.com/images/P/0002005018.0...  \n",
       "2  http://images.amazon.com/images/P/0060973129.0...  \n",
       "3  http://images.amazon.com/images/P/0374157065.0...  \n",
       "4  http://images.amazon.com/images/P/0393045218.0...  "
      ]
     },
     "execution_count": 153,
     "metadata": {},
     "output_type": "execute_result"
    }
   ],
   "source": [
    "books.head()"
   ]
  },
  {
   "cell_type": "code",
   "execution_count": 154,
   "id": "53f73ea4",
   "metadata": {},
   "outputs": [],
   "source": [
    "# drop unnecessary columns and rename columns\n",
    "books = books.drop(columns=['Image-URL-S', 'Image-URL-M', 'Image-URL-L'])\n",
    "books = books.rename(columns={'Book-Title': 'title', 'Book-Author': 'author','ISBN': 'isbn',\n",
    "                            'Year-Of-Publication': 'year', 'Publisher': 'publisher'})"
   ]
  },
  {
   "cell_type": "code",
   "execution_count": 155,
   "id": "80e0a2d6",
   "metadata": {},
   "outputs": [
    {
     "data": {
      "application/vnd.microsoft.datawrangler.viewer.v0+json": {
       "columns": [
        {
         "name": "index",
         "rawType": "int64",
         "type": "integer"
        },
        {
         "name": "User-ID",
         "rawType": "int64",
         "type": "integer"
        },
        {
         "name": "ISBN",
         "rawType": "object",
         "type": "string"
        },
        {
         "name": "Book-Rating",
         "rawType": "int64",
         "type": "integer"
        }
       ],
       "ref": "4fd32e4b-fe26-4a41-9d48-5e393c369181",
       "rows": [
        [
         "0",
         "276725",
         "034545104X",
         "0"
        ],
        [
         "1",
         "276726",
         "0155061224",
         "5"
        ],
        [
         "2",
         "276727",
         "0446520802",
         "0"
        ],
        [
         "3",
         "276729",
         "052165615X",
         "3"
        ],
        [
         "4",
         "276729",
         "0521795028",
         "6"
        ]
       ],
       "shape": {
        "columns": 3,
        "rows": 5
       }
      },
      "text/html": [
       "<div>\n",
       "<style scoped>\n",
       "    .dataframe tbody tr th:only-of-type {\n",
       "        vertical-align: middle;\n",
       "    }\n",
       "\n",
       "    .dataframe tbody tr th {\n",
       "        vertical-align: top;\n",
       "    }\n",
       "\n",
       "    .dataframe thead th {\n",
       "        text-align: right;\n",
       "    }\n",
       "</style>\n",
       "<table border=\"1\" class=\"dataframe\">\n",
       "  <thead>\n",
       "    <tr style=\"text-align: right;\">\n",
       "      <th></th>\n",
       "      <th>User-ID</th>\n",
       "      <th>ISBN</th>\n",
       "      <th>Book-Rating</th>\n",
       "    </tr>\n",
       "  </thead>\n",
       "  <tbody>\n",
       "    <tr>\n",
       "      <th>0</th>\n",
       "      <td>276725</td>\n",
       "      <td>034545104X</td>\n",
       "      <td>0</td>\n",
       "    </tr>\n",
       "    <tr>\n",
       "      <th>1</th>\n",
       "      <td>276726</td>\n",
       "      <td>0155061224</td>\n",
       "      <td>5</td>\n",
       "    </tr>\n",
       "    <tr>\n",
       "      <th>2</th>\n",
       "      <td>276727</td>\n",
       "      <td>0446520802</td>\n",
       "      <td>0</td>\n",
       "    </tr>\n",
       "    <tr>\n",
       "      <th>3</th>\n",
       "      <td>276729</td>\n",
       "      <td>052165615X</td>\n",
       "      <td>3</td>\n",
       "    </tr>\n",
       "    <tr>\n",
       "      <th>4</th>\n",
       "      <td>276729</td>\n",
       "      <td>0521795028</td>\n",
       "      <td>6</td>\n",
       "    </tr>\n",
       "  </tbody>\n",
       "</table>\n",
       "</div>"
      ],
      "text/plain": [
       "   User-ID        ISBN  Book-Rating\n",
       "0   276725  034545104X            0\n",
       "1   276726  0155061224            5\n",
       "2   276727  0446520802            0\n",
       "3   276729  052165615X            3\n",
       "4   276729  0521795028            6"
      ]
     },
     "execution_count": 155,
     "metadata": {},
     "output_type": "execute_result"
    }
   ],
   "source": [
    "ratings.head()"
   ]
  },
  {
   "cell_type": "code",
   "execution_count": 156,
   "id": "69258bd0",
   "metadata": {},
   "outputs": [],
   "source": [
    "# drop unnecessary columns and rename columns\n",
    "ratings = ratings.rename(columns={'User-ID': 'user_id', 'Book-Rating': 'book_rating', 'ISBN': 'isbn'})"
   ]
  },
  {
   "cell_type": "code",
   "execution_count": 157,
   "id": "b83a4c47",
   "metadata": {},
   "outputs": [
    {
     "data": {
      "application/vnd.microsoft.datawrangler.viewer.v0+json": {
       "columns": [
        {
         "name": "index",
         "rawType": "int64",
         "type": "integer"
        },
        {
         "name": "User-ID",
         "rawType": "int64",
         "type": "integer"
        },
        {
         "name": "Location",
         "rawType": "object",
         "type": "string"
        },
        {
         "name": "Age",
         "rawType": "float64",
         "type": "float"
        }
       ],
       "ref": "e77501da-04cd-4cd1-b483-daeae78b7370",
       "rows": [
        [
         "0",
         "1",
         "nyc, new york, usa",
         null
        ],
        [
         "1",
         "2",
         "stockton, california, usa",
         "18.0"
        ],
        [
         "2",
         "3",
         "moscow, yukon territory, russia",
         null
        ],
        [
         "3",
         "4",
         "porto, v.n.gaia, portugal",
         "17.0"
        ],
        [
         "4",
         "5",
         "farnborough, hants, united kingdom",
         null
        ]
       ],
       "shape": {
        "columns": 3,
        "rows": 5
       }
      },
      "text/html": [
       "<div>\n",
       "<style scoped>\n",
       "    .dataframe tbody tr th:only-of-type {\n",
       "        vertical-align: middle;\n",
       "    }\n",
       "\n",
       "    .dataframe tbody tr th {\n",
       "        vertical-align: top;\n",
       "    }\n",
       "\n",
       "    .dataframe thead th {\n",
       "        text-align: right;\n",
       "    }\n",
       "</style>\n",
       "<table border=\"1\" class=\"dataframe\">\n",
       "  <thead>\n",
       "    <tr style=\"text-align: right;\">\n",
       "      <th></th>\n",
       "      <th>User-ID</th>\n",
       "      <th>Location</th>\n",
       "      <th>Age</th>\n",
       "    </tr>\n",
       "  </thead>\n",
       "  <tbody>\n",
       "    <tr>\n",
       "      <th>0</th>\n",
       "      <td>1</td>\n",
       "      <td>nyc, new york, usa</td>\n",
       "      <td>NaN</td>\n",
       "    </tr>\n",
       "    <tr>\n",
       "      <th>1</th>\n",
       "      <td>2</td>\n",
       "      <td>stockton, california, usa</td>\n",
       "      <td>18.0</td>\n",
       "    </tr>\n",
       "    <tr>\n",
       "      <th>2</th>\n",
       "      <td>3</td>\n",
       "      <td>moscow, yukon territory, russia</td>\n",
       "      <td>NaN</td>\n",
       "    </tr>\n",
       "    <tr>\n",
       "      <th>3</th>\n",
       "      <td>4</td>\n",
       "      <td>porto, v.n.gaia, portugal</td>\n",
       "      <td>17.0</td>\n",
       "    </tr>\n",
       "    <tr>\n",
       "      <th>4</th>\n",
       "      <td>5</td>\n",
       "      <td>farnborough, hants, united kingdom</td>\n",
       "      <td>NaN</td>\n",
       "    </tr>\n",
       "  </tbody>\n",
       "</table>\n",
       "</div>"
      ],
      "text/plain": [
       "   User-ID                            Location   Age\n",
       "0        1                  nyc, new york, usa   NaN\n",
       "1        2           stockton, california, usa  18.0\n",
       "2        3     moscow, yukon territory, russia   NaN\n",
       "3        4           porto, v.n.gaia, portugal  17.0\n",
       "4        5  farnborough, hants, united kingdom   NaN"
      ]
     },
     "execution_count": 157,
     "metadata": {},
     "output_type": "execute_result"
    }
   ],
   "source": [
    "users.head()"
   ]
  },
  {
   "cell_type": "code",
   "execution_count": 158,
   "id": "dd1b6dd0",
   "metadata": {},
   "outputs": [],
   "source": [
    "users = users.rename(columns={'User-ID': 'user_id', 'Location': 'location', 'Age': 'user_age'})"
   ]
  },
  {
   "cell_type": "markdown",
   "id": "0187df30",
   "metadata": {},
   "source": [
    "# 📊 Data Validation in Book Recommendation System\n",
    "\n",
    "## Tables\n",
    "- **BX-Books**: book metadata (`ISBN`, `Title`, `Author`, …)  \n",
    "- **BX-Users**: user metadata (`User-ID`, `Location`, `Age`)  \n",
    "- **BX-Ratings**: ratings (`User-ID`, `ISBN`, `Book-Rating`)  \n",
    "\n",
    "## Relationships\n",
    "- `BX-Ratings` links **users** and **books**.  \n",
    "- One user → many books.  \n",
    "- One book → many users.  \n",
    "- Users and books are unique in their own tables.  \n",
    "\n",
    "## Validation Steps\n",
    "1. **ID consistency**: all `User-ID` and `ISBN` in ratings must exist in users/books.  \n",
    "2. **Duplicates**: remove duplicate `(User-ID, ISBN)` pairs.  \n",
    "3. **Ratings check**: decide how to handle `0` (implicit feedback).  \n",
    "4. **Activity filter**: drop users/books with very few ratings.  \n",
    "5. **Row counts**: verify rows before and after merges.  \n",
    "\n",
    "## Cases\n",
    "- ✅ Many users rate the same book → expected.  \n",
    "- ✅ Many books rated by one user → expected.  \n",
    "- ❌ Same user rating the same book multiple times.  \n",
    "- ❌ Ratings referencing missing users or books.  \n"
   ]
  },
  {
   "cell_type": "markdown",
   "id": "426bcc9f",
   "metadata": {},
   "source": [
    "## Consistancy Check"
   ]
  },
  {
   "cell_type": "code",
   "execution_count": 159,
   "id": "f79a114e",
   "metadata": {},
   "outputs": [
    {
     "data": {
      "text/plain": [
       "(1149780, 3)"
      ]
     },
     "execution_count": 159,
     "metadata": {},
     "output_type": "execute_result"
    }
   ],
   "source": [
    "# Keep only ratings where user exists in BX-Users\n",
    "ratings = ratings[ratings[\"user_id\"].isin(users[\"user_id\"])]\n",
    "ratings.shape\n",
    "# no ratings were removed "
   ]
  },
  {
   "cell_type": "code",
   "execution_count": 160,
   "id": "30a39e8a",
   "metadata": {},
   "outputs": [
    {
     "data": {
      "text/plain": [
       "(1031136, 3)"
      ]
     },
     "execution_count": 160,
     "metadata": {},
     "output_type": "execute_result"
    }
   ],
   "source": [
    "# Keep only ratings where book exists in BX-Books\n",
    "ratings = ratings[ratings[\"isbn\"].isin(books[\"isbn\"])]\n",
    "ratings.shape\n",
    "# there were 118,644 ratings removed "
   ]
  },
  {
   "cell_type": "markdown",
   "id": "eac01433",
   "metadata": {},
   "source": [
    "There were 118,644 rating removed due to missing book."
   ]
  },
  {
   "cell_type": "markdown",
   "id": "05cb19f2",
   "metadata": {},
   "source": [
    "## Remove Duplicated"
   ]
  },
  {
   "cell_type": "code",
   "execution_count": 161,
   "id": "9963e4a8",
   "metadata": {},
   "outputs": [
    {
     "data": {
      "text/plain": [
       "(1031136, 3)"
      ]
     },
     "execution_count": 161,
     "metadata": {},
     "output_type": "execute_result"
    }
   ],
   "source": [
    "ratings = ratings.drop_duplicates(subset=[\"user_id\", \"isbn\"])\n",
    "ratings.shape"
   ]
  },
  {
   "cell_type": "markdown",
   "id": "e0ecab6d",
   "metadata": {},
   "source": [
    "## Tabels Merging"
   ]
  },
  {
   "cell_type": "code",
   "execution_count": 162,
   "id": "009179ef",
   "metadata": {},
   "outputs": [
    {
     "name": "stdout",
     "output_type": "stream",
     "text": [
      "Final merged dataset size: (1031136, 9)\n",
      "\n",
      " \n",
      " Sample book ratings:\n",
      "              isbn  book_rating\n",
      "0      034545104X            0\n",
      "13561  034545104X            5\n",
      "23643  034545104X            0\n",
      "31455  034545104X            5\n",
      "35641  034545104X            9\n"
     ]
    }
   ],
   "source": [
    "# Merge safely with user and book metadata\n",
    "df = ratings.merge(users, on=\"user_id\", how=\"inner\").merge(books, on=\"isbn\", how=\"inner\")\n",
    "\n",
    "print(\"Final merged dataset size:\", df.shape)\n",
    "print(\"\\n \\n Sample book ratings:\\n\", df[df[\"isbn\"] == df[\"isbn\"].iloc[0]][[\"isbn\", \"book_rating\"]].head())\n"
   ]
  },
  {
   "cell_type": "code",
   "execution_count": 163,
   "id": "f263fac5",
   "metadata": {},
   "outputs": [
    {
     "data": {
      "application/vnd.microsoft.datawrangler.viewer.v0+json": {
       "columns": [
        {
         "name": "index",
         "rawType": "int64",
         "type": "integer"
        },
        {
         "name": "user_id",
         "rawType": "int64",
         "type": "integer"
        },
        {
         "name": "isbn",
         "rawType": "object",
         "type": "string"
        },
        {
         "name": "book_rating",
         "rawType": "int64",
         "type": "integer"
        },
        {
         "name": "location",
         "rawType": "object",
         "type": "string"
        },
        {
         "name": "user_age",
         "rawType": "float64",
         "type": "float"
        },
        {
         "name": "title",
         "rawType": "object",
         "type": "string"
        },
        {
         "name": "author",
         "rawType": "object",
         "type": "string"
        },
        {
         "name": "year",
         "rawType": "object",
         "type": "unknown"
        },
        {
         "name": "publisher",
         "rawType": "object",
         "type": "string"
        }
       ],
       "ref": "7fb3a505-1689-4078-9479-ae7c0ff23df4",
       "rows": [
        [
         "0",
         "276725",
         "034545104X",
         "0",
         "tyler, texas, usa",
         null,
         "Flesh Tones: A Novel",
         "M. J. Rose",
         "2002",
         "Ballantine Books"
        ],
        [
         "1",
         "276726",
         "0155061224",
         "5",
         "seattle, washington, usa",
         null,
         "Rites of Passage",
         "Judith Rae",
         "2001",
         "Heinle"
        ],
        [
         "2",
         "276727",
         "0446520802",
         "0",
         "h, new south wales, australia",
         "16.0",
         "The Notebook",
         "Nicholas Sparks",
         "1996",
         "Warner Books"
        ],
        [
         "3",
         "276729",
         "052165615X",
         "3",
         "rijeka, n/a, croatia",
         "16.0",
         "Help!: Level 1",
         "Philip Prowse",
         "1999",
         "Cambridge University Press"
        ],
        [
         "4",
         "276729",
         "0521795028",
         "6",
         "rijeka, n/a, croatia",
         "16.0",
         "The Amsterdam Connection : Level 4 (Cambridge English Readers)",
         "Sue Leather",
         "2001",
         "Cambridge University Press"
        ]
       ],
       "shape": {
        "columns": 9,
        "rows": 5
       }
      },
      "text/html": [
       "<div>\n",
       "<style scoped>\n",
       "    .dataframe tbody tr th:only-of-type {\n",
       "        vertical-align: middle;\n",
       "    }\n",
       "\n",
       "    .dataframe tbody tr th {\n",
       "        vertical-align: top;\n",
       "    }\n",
       "\n",
       "    .dataframe thead th {\n",
       "        text-align: right;\n",
       "    }\n",
       "</style>\n",
       "<table border=\"1\" class=\"dataframe\">\n",
       "  <thead>\n",
       "    <tr style=\"text-align: right;\">\n",
       "      <th></th>\n",
       "      <th>user_id</th>\n",
       "      <th>isbn</th>\n",
       "      <th>book_rating</th>\n",
       "      <th>location</th>\n",
       "      <th>user_age</th>\n",
       "      <th>title</th>\n",
       "      <th>author</th>\n",
       "      <th>year</th>\n",
       "      <th>publisher</th>\n",
       "    </tr>\n",
       "  </thead>\n",
       "  <tbody>\n",
       "    <tr>\n",
       "      <th>0</th>\n",
       "      <td>276725</td>\n",
       "      <td>034545104X</td>\n",
       "      <td>0</td>\n",
       "      <td>tyler, texas, usa</td>\n",
       "      <td>NaN</td>\n",
       "      <td>Flesh Tones: A Novel</td>\n",
       "      <td>M. J. Rose</td>\n",
       "      <td>2002</td>\n",
       "      <td>Ballantine Books</td>\n",
       "    </tr>\n",
       "    <tr>\n",
       "      <th>1</th>\n",
       "      <td>276726</td>\n",
       "      <td>0155061224</td>\n",
       "      <td>5</td>\n",
       "      <td>seattle, washington, usa</td>\n",
       "      <td>NaN</td>\n",
       "      <td>Rites of Passage</td>\n",
       "      <td>Judith Rae</td>\n",
       "      <td>2001</td>\n",
       "      <td>Heinle</td>\n",
       "    </tr>\n",
       "    <tr>\n",
       "      <th>2</th>\n",
       "      <td>276727</td>\n",
       "      <td>0446520802</td>\n",
       "      <td>0</td>\n",
       "      <td>h, new south wales, australia</td>\n",
       "      <td>16.0</td>\n",
       "      <td>The Notebook</td>\n",
       "      <td>Nicholas Sparks</td>\n",
       "      <td>1996</td>\n",
       "      <td>Warner Books</td>\n",
       "    </tr>\n",
       "    <tr>\n",
       "      <th>3</th>\n",
       "      <td>276729</td>\n",
       "      <td>052165615X</td>\n",
       "      <td>3</td>\n",
       "      <td>rijeka, n/a, croatia</td>\n",
       "      <td>16.0</td>\n",
       "      <td>Help!: Level 1</td>\n",
       "      <td>Philip Prowse</td>\n",
       "      <td>1999</td>\n",
       "      <td>Cambridge University Press</td>\n",
       "    </tr>\n",
       "    <tr>\n",
       "      <th>4</th>\n",
       "      <td>276729</td>\n",
       "      <td>0521795028</td>\n",
       "      <td>6</td>\n",
       "      <td>rijeka, n/a, croatia</td>\n",
       "      <td>16.0</td>\n",
       "      <td>The Amsterdam Connection : Level 4 (Cambridge ...</td>\n",
       "      <td>Sue Leather</td>\n",
       "      <td>2001</td>\n",
       "      <td>Cambridge University Press</td>\n",
       "    </tr>\n",
       "  </tbody>\n",
       "</table>\n",
       "</div>"
      ],
      "text/plain": [
       "   user_id        isbn  book_rating                       location  user_age  \\\n",
       "0   276725  034545104X            0              tyler, texas, usa       NaN   \n",
       "1   276726  0155061224            5       seattle, washington, usa       NaN   \n",
       "2   276727  0446520802            0  h, new south wales, australia      16.0   \n",
       "3   276729  052165615X            3           rijeka, n/a, croatia      16.0   \n",
       "4   276729  0521795028            6           rijeka, n/a, croatia      16.0   \n",
       "\n",
       "                                               title           author  year  \\\n",
       "0                               Flesh Tones: A Novel       M. J. Rose  2002   \n",
       "1                                   Rites of Passage       Judith Rae  2001   \n",
       "2                                       The Notebook  Nicholas Sparks  1996   \n",
       "3                                     Help!: Level 1    Philip Prowse  1999   \n",
       "4  The Amsterdam Connection : Level 4 (Cambridge ...      Sue Leather  2001   \n",
       "\n",
       "                    publisher  \n",
       "0            Ballantine Books  \n",
       "1                      Heinle  \n",
       "2                Warner Books  \n",
       "3  Cambridge University Press  \n",
       "4  Cambridge University Press  "
      ]
     },
     "execution_count": 163,
     "metadata": {},
     "output_type": "execute_result"
    }
   ],
   "source": [
    "df.head()"
   ]
  },
  {
   "cell_type": "markdown",
   "id": "f6806c54",
   "metadata": {},
   "source": [
    "## Reduce dataset size"
   ]
  },
  {
   "cell_type": "code",
   "execution_count": 164,
   "id": "3d9a9059",
   "metadata": {},
   "outputs": [
    {
     "name": "stdout",
     "output_type": "stream",
     "text": [
      "<class 'pandas.core.frame.DataFrame'>\n",
      "RangeIndex: 1031136 entries, 0 to 1031135\n",
      "Data columns (total 9 columns):\n",
      " #   Column       Non-Null Count    Dtype  \n",
      "---  ------       --------------    -----  \n",
      " 0   user_id      1031136 non-null  int64  \n",
      " 1   isbn         1031136 non-null  object \n",
      " 2   book_rating  1031136 non-null  int64  \n",
      " 3   location     1031136 non-null  object \n",
      " 4   user_age     753301 non-null   float64\n",
      " 5   title        1031136 non-null  object \n",
      " 6   author       1031134 non-null  object \n",
      " 7   year         1031136 non-null  object \n",
      " 8   publisher    1031134 non-null  object \n",
      "dtypes: float64(1), int64(2), object(6)\n",
      "memory usage: 70.8+ MB\n"
     ]
    }
   ],
   "source": [
    "df.info()"
   ]
  },
  {
   "cell_type": "code",
   "execution_count": 165,
   "id": "99d13e33",
   "metadata": {},
   "outputs": [
    {
     "name": "stdout",
     "output_type": "stream",
     "text": [
      "<class 'pandas.core.frame.DataFrame'>\n",
      "RangeIndex: 1031136 entries, 0 to 1031135\n",
      "Data columns (total 9 columns):\n",
      " #   Column       Non-Null Count    Dtype  \n",
      "---  ------       --------------    -----  \n",
      " 0   user_id      1031136 non-null  int32  \n",
      " 1   isbn         1031136 non-null  object \n",
      " 2   book_rating  1031136 non-null  int8   \n",
      " 3   location     1031136 non-null  object \n",
      " 4   user_age     753301 non-null   float32\n",
      " 5   title        1031136 non-null  object \n",
      " 6   author       1031134 non-null  object \n",
      " 7   year         1031136 non-null  object \n",
      " 8   publisher    1031134 non-null  object \n",
      "dtypes: float32(1), int32(1), int8(1), object(6)\n",
      "memory usage: 56.1+ MB\n"
     ]
    }
   ],
   "source": [
    "# Downcast int64 → int32 and float64 → float32\n",
    "df[\"user_id\"] = pd.to_numeric(df[\"user_id\"], downcast=\"integer\")\n",
    "df[\"book_rating\"] = pd.to_numeric(df[\"book_rating\"], downcast=\"integer\")\n",
    "df[\"user_age\"] = pd.to_numeric(df[\"user_age\"], downcast=\"float\")\n",
    "\n",
    "df.info()"
   ]
  },
  {
   "cell_type": "markdown",
   "id": "a70fe3ff",
   "metadata": {},
   "source": [
    "# Dataset Filtering"
   ]
  },
  {
   "cell_type": "markdown",
   "id": "324a0d29",
   "metadata": {},
   "source": [
    "# 📊 Data Filtering Criteria for Book Recommendation System\n",
    "\n",
    "## Goal\n",
    "The purpose of filtering is to reduce noise, handle invalid entries, and ensure that both users and books have enough interactions for meaningful recommendations. This improves data quality, model performance, and computational efficiency.\n",
    "\n",
    "## Filtering Criteria\n",
    "\n",
    "1. **Explicit Ratings Only**  \n",
    "   - Remove ratings equal to `0` (implicit feedback).  \n",
    "   - Keep only ratings greater than `0`.  \n",
    "\n",
    "2. **Minimum Ratings per Book**  \n",
    "   - Keep only books with at least **3 ratings**.  \n",
    "   - Ensures books have enough feedback for collaborative filtering.  \n",
    "\n",
    "3. **Minimum Ratings per User**  \n",
    "   - Keep only users with at least **2 ratings**.  \n",
    "   - Ensures each user profile is informative.  \n",
    "\n",
    "4. **Age Validation (Optional)**  \n",
    "   - Keep user ages within the range **10–100**.  \n",
    "   - Removes unrealistic or missing values.  \n",
    "\n",
    "5. **Year Validation (Optional)**  \n",
    "   - Keep publication years between **1500 and the current year**.  \n",
    "   - Removes invalid or placeholder values.  \n",
    "## Outcome\n",
    "- A cleaner, denser dataset.  \n",
    "- Balanced representation of users and books.  \n",
    "- Reduced sparsity and improved model training.  \n"
   ]
  },
  {
   "cell_type": "code",
   "execution_count": 166,
   "id": "8fc9f19b",
   "metadata": {},
   "outputs": [
    {
     "data": {
      "application/vnd.microsoft.datawrangler.viewer.v0+json": {
       "columns": [
        {
         "name": "book_rating",
         "rawType": "int8",
         "type": "integer"
        },
        {
         "name": "count",
         "rawType": "int64",
         "type": "integer"
        }
       ],
       "ref": "87a4503f-f470-4519-a33f-d853ce5329af",
       "rows": [
        [
         "0",
         "647294"
        ],
        [
         "8",
         "91804"
        ]
       ],
       "shape": {
        "columns": 1,
        "rows": 2
       }
      },
      "text/plain": [
       "book_rating\n",
       "0    647294\n",
       "8     91804\n",
       "Name: count, dtype: int64"
      ]
     },
     "execution_count": 166,
     "metadata": {},
     "output_type": "execute_result"
    }
   ],
   "source": [
    "df['book_rating'].value_counts().head(2)"
   ]
  },
  {
   "cell_type": "code",
   "execution_count": 167,
   "id": "92127089",
   "metadata": {},
   "outputs": [],
   "source": [
    "# -----------------------------\n",
    "# 1. Explicit ratings only\n",
    "# -----------------------------\n",
    "df = df[df[\"book_rating\"] > 0]"
   ]
  },
  {
   "cell_type": "code",
   "execution_count": 168,
   "id": "d430be87",
   "metadata": {},
   "outputs": [],
   "source": [
    "# -----------------------------\n",
    "# 2. Filter books with >= 3 ratings\n",
    "# -----------------------------\n",
    "book_counts = df[\"isbn\"].value_counts()\n",
    "df = df[df[\"isbn\"].isin(book_counts[book_counts >= 3].index)]"
   ]
  },
  {
   "cell_type": "code",
   "execution_count": 169,
   "id": "e3bb8e36",
   "metadata": {},
   "outputs": [],
   "source": [
    "# -----------------------------\n",
    "# 3. Filter users with >= 2 ratings\n",
    "# -----------------------------\n",
    "user_counts = df[\"user_id\"].value_counts()\n",
    "df = df[df[\"user_id\"].isin(user_counts[user_counts >= 2].index)]\n"
   ]
  },
  {
   "cell_type": "code",
   "execution_count": 170,
   "id": "7e2653b9",
   "metadata": {},
   "outputs": [
    {
     "data": {
      "application/vnd.microsoft.datawrangler.viewer.v0+json": {
       "columns": [
        {
         "name": "index",
         "rawType": "object",
         "type": "string"
        },
        {
         "name": "user_age",
         "rawType": "float64",
         "type": "float"
        }
       ],
       "ref": "00b6e9dc-8640-4084-af5c-64c5f5056dfd",
       "rows": [
        [
         "count",
         "148035.0"
        ],
        [
         "mean",
         "36.616268157958984"
        ],
        [
         "std",
         "13.618600845336914"
        ],
        [
         "min",
         "0.0"
        ],
        [
         "25%",
         "28.0"
        ],
        [
         "50%",
         "34.0"
        ],
        [
         "75%",
         "44.0"
        ],
        [
         "max",
         "244.0"
        ]
       ],
       "shape": {
        "columns": 1,
        "rows": 8
       }
      },
      "text/plain": [
       "count    148035.000000\n",
       "mean         36.616268\n",
       "std          13.618601\n",
       "min           0.000000\n",
       "25%          28.000000\n",
       "50%          34.000000\n",
       "75%          44.000000\n",
       "max         244.000000\n",
       "Name: user_age, dtype: float64"
      ]
     },
     "execution_count": 170,
     "metadata": {},
     "output_type": "execute_result"
    }
   ],
   "source": [
    "df['user_age'].describe()"
   ]
  },
  {
   "cell_type": "code",
   "execution_count": 172,
   "id": "c54339b0",
   "metadata": {},
   "outputs": [],
   "source": [
    "# -----------------------------\n",
    "# 4. Age validation\n",
    "# -----------------------------\n",
    "df = df[(df['user_age'] >= 10) & (df['user_age'] <= 100)]"
   ]
  },
  {
   "cell_type": "code",
   "execution_count": 173,
   "id": "772f3b1e",
   "metadata": {},
   "outputs": [
    {
     "data": {
      "application/vnd.microsoft.datawrangler.viewer.v0+json": {
       "columns": [
        {
         "name": "index",
         "rawType": "object",
         "type": "string"
        },
        {
         "name": "year",
         "rawType": "float64",
         "type": "float"
        }
       ],
       "ref": "458e0d00-94d0-4e45-aacf-265359661501",
       "rows": [
        [
         "count",
         "146971.0"
        ],
        [
         "mean",
         "1973.3322220029802"
        ],
        [
         "std",
         "213.32560772653588"
        ],
        [
         "min",
         "0.0"
        ],
        [
         "25%",
         "1993.0"
        ],
        [
         "50%",
         "1998.0"
        ],
        [
         "75%",
         "2001.0"
        ],
        [
         "max",
         "2050.0"
        ]
       ],
       "shape": {
        "columns": 1,
        "rows": 8
       }
      },
      "text/plain": [
       "count    146971.000000\n",
       "mean       1973.332222\n",
       "std         213.325608\n",
       "min           0.000000\n",
       "25%        1993.000000\n",
       "50%        1998.000000\n",
       "75%        2001.000000\n",
       "max        2050.000000\n",
       "Name: year, dtype: float64"
      ]
     },
     "execution_count": 173,
     "metadata": {},
     "output_type": "execute_result"
    }
   ],
   "source": [
    "df[\"year\"] = pd.to_numeric(df[\"year\"], errors=\"coerce\")\n",
    "df['year'].describe()"
   ]
  },
  {
   "cell_type": "code",
   "execution_count": 174,
   "id": "93e69d0c",
   "metadata": {},
   "outputs": [],
   "source": [
    "# -----------------------------\n",
    "# 5. Year validation\n",
    "# -----------------------------\n",
    "df[\"year\"] = pd.to_numeric(df[\"year\"], errors=\"coerce\")\n",
    "df = df[((df[\"year\"] >= 1500) & (df[\"year\"] <= 2025))]"
   ]
  },
  {
   "cell_type": "code",
   "execution_count": 175,
   "id": "7c76789d",
   "metadata": {},
   "outputs": [
    {
     "name": "stdout",
     "output_type": "stream",
     "text": [
      "<class 'pandas.core.frame.DataFrame'>\n",
      "Index: 145264 entries, 13 to 1031005\n",
      "Data columns (total 9 columns):\n",
      " #   Column       Non-Null Count   Dtype  \n",
      "---  ------       --------------   -----  \n",
      " 0   user_id      145264 non-null  int32  \n",
      " 1   isbn         145264 non-null  object \n",
      " 2   book_rating  145264 non-null  int8   \n",
      " 3   location     145264 non-null  object \n",
      " 4   user_age     145264 non-null  float32\n",
      " 5   title        145264 non-null  object \n",
      " 6   author       145264 non-null  object \n",
      " 7   year         145264 non-null  int64  \n",
      " 8   publisher    145264 non-null  object \n",
      "dtypes: float32(1), int32(1), int64(1), int8(1), object(5)\n",
      "memory usage: 9.0+ MB\n"
     ]
    }
   ],
   "source": [
    "df.info()"
   ]
  }
 ],
 "metadata": {
  "kernelspec": {
   "display_name": "base",
   "language": "python",
   "name": "python3"
  },
  "language_info": {
   "codemirror_mode": {
    "name": "ipython",
    "version": 3
   },
   "file_extension": ".py",
   "mimetype": "text/x-python",
   "name": "python",
   "nbconvert_exporter": "python",
   "pygments_lexer": "ipython3",
   "version": "3.12.4"
  }
 },
 "nbformat": 4,
 "nbformat_minor": 5
}
